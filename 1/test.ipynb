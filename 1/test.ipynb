{
 "cells": [
  {
   "cell_type": "code",
   "execution_count": null,
   "metadata": {},
   "outputs": [],
   "source": [
    "import requests\n",
    "import json\n",
    "import openai\n",
    "from config import *\n",
    "\n",
    "API_KEY=api_key\n",
    "BASE_URL=\"https://api.deepseek.com\"\n",
    "\n",
    "\n",
    "# 测试数据\n",
    "test_data = [\n",
    "    {\"news_id\": \"1\", \"title\": \"全球经济形势严峻，多个国家迎来经济衰退\", \"keywords\": \"经济, 全球, 衰退, 国家\"},\n",
    "    {\"news_id\": \"2\", \"title\": \"双十一大促销，商品折扣力度空前\", \"keywords\": \"电商, 促销, 双十一, 折扣\"},\n",
    "    {\"news_id\": \"3\", \"title\": \"社交平台更新新功能，用户体验提升\", \"keywords\": \"社交平台, 更新, 功能, 用户体验\"},\n",
    "    {\"news_id\": \"4\", \"title\": \"如何保持健康饮食，专家给出建议\", \"keywords\": \"健康, 饮食, 专家, 建议\"},\n",
    "    {\"news_id\": \"5\", \"title\": \"世界杯即将开幕，足球迷热议各大球队阵容\", \"keywords\": \"世界杯, 足球, 球迷, 阵容\"},\n",
    "    {\"news_id\": \"6\", \"title\": \"新型人工智能芯片发布，推动行业发展\", \"keywords\": \"人工智能, 芯片, 科技, 行业\"}\n",
    "]\n",
    "\n",
    "category_list = [\"财经\", \"娱乐\", \"体育\", \"科技\", \"健康\", \"教育\", \"军事\", \"旅游\", \"汽车\", \"房产\"]"
   ]
  },
  {
   "cell_type": "code",
   "execution_count": 7,
   "metadata": {},
   "outputs": [],
   "source": [
    "\n",
    "model = openai.OpenAI(\n",
    "                api_key=API_KEY,\n",
    "                base_url=BASE_URL,\n",
    "            )\n",
    "tools = {\n",
    "                \"type\": \"function\",\n",
    "                \"function\": {\n",
    "                    \"name\": \"classification\",\n",
    "                    \"description\": \"根据给定的新闻标题和关键词，进行新闻分类\",\n",
    "                    \"parameters\": {\n",
    "                        \"type\": \"object\",\n",
    "                        \"properties\": {\n",
    "                            \"category\": {\n",
    "                                \"type\": \"string\",\n",
    "                                \"description\": \"新闻分类\",\n",
    "                            },\n",
    "                        },\n",
    "                        \"required\": [\"category\"],\n",
    "                    },\n",
    "                },\n",
    "            }"
   ]
  },
  {
   "cell_type": "code",
   "execution_count": 13,
   "metadata": {},
   "outputs": [
    {
     "name": "stdout",
     "output_type": "stream",
     "text": [
      "{'news_id': '1', 'category': '财经'}\n",
      "{'news_id': '2', 'category': '财经'}\n",
      "{'news_id': '3', 'category': '科技'}\n",
      "{'news_id': '4', 'category': '健康'}\n",
      "{'news_id': '5', 'category': '体育'}\n",
      "{'news_id': '6', 'category': '科技'}\n"
     ]
    }
   ],
   "source": [
    "for data in test_data:\n",
    "    temp_str = f\"新闻标题：{data['title']}，关键词：{data['keywords']}，请根据关键词进行新闻分类\"\n",
    "\n",
    "    response = model.chat.completions.create(model=\"deepseek-chat\", messages=[{\n",
    "    \"role\": \"system\", \"content\": f\"\"\"\n",
    "        你是一个专业的新闻分类器，能够快速精简的从提供的文本中提取出新闻分类。\n",
    "        分类的结果必须是以下列表中的一个：{category_list}。\n",
    "        注意，你必须调用提供的函数进行信息提取，将提取的信息填入函数的参数中。\n",
    "        直接返回提取的结果，不要回复多余的内容。\n",
    "        \"\"\"},\n",
    "    {\"role\": \"user\", \"content\": f\"\"\"\n",
    "        请根据以下材料，提取新闻分类：\n",
    "        {temp_str}\n",
    "        \"\"\"},\n",
    "        ],tools=[tools],tool_choice=\"required\")\n",
    "        \n",
    "    tool_call = response.choices[0].message.tool_calls[0]\n",
    "    arguments = json.loads(tool_call.function.arguments)\n",
    "    category = arguments[\"category\"]\n",
    "    result = {\n",
    "        \"news_id\": data[\"news_id\"],\n",
    "        \"category\": category,\n",
    "    }\n",
    "    print(result)\n",
    "    # break"
   ]
  }
 ],
 "metadata": {
  "kernelspec": {
   "display_name": "base",
   "language": "python",
   "name": "python3"
  },
  "language_info": {
   "codemirror_mode": {
    "name": "ipython",
    "version": 3
   },
   "file_extension": ".py",
   "mimetype": "text/x-python",
   "name": "python",
   "nbconvert_exporter": "python",
   "pygments_lexer": "ipython3",
   "version": "3.9.16"
  }
 },
 "nbformat": 4,
 "nbformat_minor": 2
}
